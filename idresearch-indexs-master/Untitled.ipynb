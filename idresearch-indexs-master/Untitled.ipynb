{
 "cells": [
  {
   "cell_type": "code",
   "execution_count": 9,
   "id": "b0611e7e-8439-4422-a176-89284c085239",
   "metadata": {},
   "outputs": [
    {
     "name": "stdout",
     "output_type": "stream",
     "text": [
      "Cloning into 'octo-research-explorer-scraper-crossref'...\n",
      "remote: Enumerating objects: 24, done.\u001b[K\n",
      "remote: Counting objects: 100% (24/24), done.\u001b[K\n",
      "remote: Compressing objects: 100% (18/18), done.\u001b[K\n",
      "remote: Total 24 (delta 4), reused 24 (delta 4), pack-reused 0\u001b[K\n",
      "Receiving objects: 100% (24/24), 2.60 MiB | 3.08 MiB/s, done.\n",
      "Resolving deltas: 100% (4/4), done.\n"
     ]
    }
   ],
   "source": [
    "!git clone https://github.com/alfiankan/octo-research-explorer-scraper-crossref.git"
   ]
  },
  {
   "cell_type": "code",
   "execution_count": 10,
   "id": "012ff0dc-92bc-40f2-90af-3b595cef0af8",
   "metadata": {},
   "outputs": [],
   "source": [
    "!cd octo-research-explorer-scraper-crossref"
   ]
  },
  {
   "cell_type": "code",
   "execution_count": 12,
   "id": "6afd92f3-69ba-43f9-84a6-e005da2e773f",
   "metadata": {},
   "outputs": [
    {
     "name": "stdout",
     "output_type": "stream",
     "text": [
      "v1.0.1\n",
      "v1.0.2\n",
      "v1.0.3\n",
      "v5.0.0\n"
     ]
    }
   ],
   "source": [
    "!git tag"
   ]
  },
  {
   "cell_type": "code",
   "execution_count": null,
   "id": "3ce5ffb8-0a95-4d00-bb78-ed411cc3dc61",
   "metadata": {},
   "outputs": [],
   "source": []
  }
 ],
 "metadata": {
  "kernelspec": {
   "display_name": "Python 3 (ipykernel)",
   "language": "python",
   "name": "python3"
  },
  "language_info": {
   "codemirror_mode": {
    "name": "ipython",
    "version": 3
   },
   "file_extension": ".py",
   "mimetype": "text/x-python",
   "name": "python",
   "nbconvert_exporter": "python",
   "pygments_lexer": "ipython3",
   "version": "3.10.8"
  }
 },
 "nbformat": 4,
 "nbformat_minor": 5
}
